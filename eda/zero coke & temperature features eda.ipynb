{
 "cells": [
  {
   "cell_type": "markdown",
   "id": "f48925c7-6d91-4e29-a66f-15ec7360cc9f",
   "metadata": {},
   "source": [
    "# zero coke & temperature data analysis"
   ]
  },
  {
   "cell_type": "markdown",
   "id": "70238f78-944f-4fba-8704-54c99d1a4cdb",
   "metadata": {},
   "source": [
    "* 데이터 출처 : https://www.booksr.co.kr/product/9788989383086/"
   ]
  },
  {
   "cell_type": "markdown",
   "id": "4c2e7757-8c05-4ad0-9217-f84cea90e035",
   "metadata": {},
   "source": [
    "+ 제로콜라의 수요를 예측할 수 있도록 하는 주요 특성 찾기"
   ]
  },
  {
   "cell_type": "code",
   "execution_count": 1,
   "id": "0eb99624-dd7c-47d3-ad9f-c4d12dd1f7f7",
   "metadata": {},
   "outputs": [],
   "source": [
    "import pandas as pd\n",
    "import matplotlib.pyplot as plt\n",
    "import seaborn as sns\n",
    "import numpy as np"
   ]
  },
  {
   "cell_type": "code",
   "execution_count": 2,
   "id": "a2290f68-3015-4065-a5af-a07742bf43c2",
   "metadata": {},
   "outputs": [
    {
     "name": "stdout",
     "output_type": "stream",
     "text": [
      "<class 'pandas.core.frame.DataFrame'>\n",
      "RangeIndex: 366 entries, 0 to 365\n",
      "Data columns (total 5 columns):\n",
      " #   Column     Non-Null Count  Dtype  \n",
      "---  ------     --------------  -----  \n",
      " 0   date       366 non-null    object \n",
      " 1   mean       366 non-null    float64\n",
      " 2   min        365 non-null    float64\n",
      " 3   max        366 non-null    float64\n",
      " 4   zero_coke  366 non-null    int64  \n",
      "dtypes: float64(3), int64(1), object(1)\n",
      "memory usage: 14.4+ KB\n"
     ]
    }
   ],
   "source": [
    "df = pd.read_csv('./data/coke.csv')\n",
    "df.info()"
   ]
  },
  {
   "cell_type": "code",
   "execution_count": 3,
   "id": "ee2f2646-3548-4d50-9eec-a1deb4c57731",
   "metadata": {},
   "outputs": [
    {
     "data": {
      "text/html": [
       "<div>\n",
       "<style scoped>\n",
       "    .dataframe tbody tr th:only-of-type {\n",
       "        vertical-align: middle;\n",
       "    }\n",
       "\n",
       "    .dataframe tbody tr th {\n",
       "        vertical-align: top;\n",
       "    }\n",
       "\n",
       "    .dataframe thead th {\n",
       "        text-align: right;\n",
       "    }\n",
       "</style>\n",
       "<table border=\"1\" class=\"dataframe\">\n",
       "  <thead>\n",
       "    <tr style=\"text-align: right;\">\n",
       "      <th></th>\n",
       "      <th>date</th>\n",
       "      <th>mean</th>\n",
       "      <th>min</th>\n",
       "      <th>max</th>\n",
       "      <th>zero_coke</th>\n",
       "    </tr>\n",
       "  </thead>\n",
       "  <tbody>\n",
       "    <tr>\n",
       "      <th>0</th>\n",
       "      <td>2021-09-24</td>\n",
       "      <td>21.8</td>\n",
       "      <td>16.7</td>\n",
       "      <td>26.9</td>\n",
       "      <td>58</td>\n",
       "    </tr>\n",
       "    <tr>\n",
       "      <th>1</th>\n",
       "      <td>2021-09-25</td>\n",
       "      <td>21.2</td>\n",
       "      <td>18.7</td>\n",
       "      <td>23.1</td>\n",
       "      <td>54</td>\n",
       "    </tr>\n",
       "    <tr>\n",
       "      <th>2</th>\n",
       "      <td>2021-09-26</td>\n",
       "      <td>22.6</td>\n",
       "      <td>18.4</td>\n",
       "      <td>27.3</td>\n",
       "      <td>77</td>\n",
       "    </tr>\n",
       "    <tr>\n",
       "      <th>3</th>\n",
       "      <td>2021-09-27</td>\n",
       "      <td>21.6</td>\n",
       "      <td>18.7</td>\n",
       "      <td>25.0</td>\n",
       "      <td>100</td>\n",
       "    </tr>\n",
       "    <tr>\n",
       "      <th>4</th>\n",
       "      <td>2021-09-28</td>\n",
       "      <td>21.5</td>\n",
       "      <td>19.6</td>\n",
       "      <td>24.4</td>\n",
       "      <td>77</td>\n",
       "    </tr>\n",
       "  </tbody>\n",
       "</table>\n",
       "</div>"
      ],
      "text/plain": [
       "         date  mean   min   max  zero_coke\n",
       "0  2021-09-24  21.8  16.7  26.9         58\n",
       "1  2021-09-25  21.2  18.7  23.1         54\n",
       "2  2021-09-26  22.6  18.4  27.3         77\n",
       "3  2021-09-27  21.6  18.7  25.0        100\n",
       "4  2021-09-28  21.5  19.6  24.4         77"
      ]
     },
     "execution_count": 3,
     "metadata": {},
     "output_type": "execute_result"
    }
   ],
   "source": [
    "df.head()"
   ]
  },
  {
   "cell_type": "code",
   "execution_count": 7,
   "id": "75c90b08-a3be-491c-b6e0-85a4353a4b98",
   "metadata": {},
   "outputs": [
    {
     "data": {
      "text/html": [
       "<div>\n",
       "<style scoped>\n",
       "    .dataframe tbody tr th:only-of-type {\n",
       "        vertical-align: middle;\n",
       "    }\n",
       "\n",
       "    .dataframe tbody tr th {\n",
       "        vertical-align: top;\n",
       "    }\n",
       "\n",
       "    .dataframe thead th {\n",
       "        text-align: right;\n",
       "    }\n",
       "</style>\n",
       "<table border=\"1\" class=\"dataframe\">\n",
       "  <thead>\n",
       "    <tr style=\"text-align: right;\">\n",
       "      <th></th>\n",
       "      <th>date</th>\n",
       "      <th>mean</th>\n",
       "      <th>min</th>\n",
       "      <th>max</th>\n",
       "      <th>zero_coke</th>\n",
       "    </tr>\n",
       "  </thead>\n",
       "  <tbody>\n",
       "    <tr>\n",
       "      <th>361</th>\n",
       "      <td>2022-09-20</td>\n",
       "      <td>19.9</td>\n",
       "      <td>16.1</td>\n",
       "      <td>24.6</td>\n",
       "      <td>21</td>\n",
       "    </tr>\n",
       "    <tr>\n",
       "      <th>362</th>\n",
       "      <td>2022-09-21</td>\n",
       "      <td>19.4</td>\n",
       "      <td>13.0</td>\n",
       "      <td>25.6</td>\n",
       "      <td>21</td>\n",
       "    </tr>\n",
       "    <tr>\n",
       "      <th>363</th>\n",
       "      <td>2022-09-22</td>\n",
       "      <td>19.8</td>\n",
       "      <td>14.2</td>\n",
       "      <td>24.7</td>\n",
       "      <td>19</td>\n",
       "    </tr>\n",
       "    <tr>\n",
       "      <th>364</th>\n",
       "      <td>2022-09-23</td>\n",
       "      <td>17.5</td>\n",
       "      <td>14.7</td>\n",
       "      <td>22.2</td>\n",
       "      <td>14</td>\n",
       "    </tr>\n",
       "    <tr>\n",
       "      <th>365</th>\n",
       "      <td>2022-09-24</td>\n",
       "      <td>18.5</td>\n",
       "      <td>12.3</td>\n",
       "      <td>24.2</td>\n",
       "      <td>13</td>\n",
       "    </tr>\n",
       "  </tbody>\n",
       "</table>\n",
       "</div>"
      ],
      "text/plain": [
       "           date  mean   min   max  zero_coke\n",
       "361  2022-09-20  19.9  16.1  24.6         21\n",
       "362  2022-09-21  19.4  13.0  25.6         21\n",
       "363  2022-09-22  19.8  14.2  24.7         19\n",
       "364  2022-09-23  17.5  14.7  22.2         14\n",
       "365  2022-09-24  18.5  12.3  24.2         13"
      ]
     },
     "execution_count": 7,
     "metadata": {},
     "output_type": "execute_result"
    }
   ],
   "source": [
    "df.tail()"
   ]
  },
  {
   "cell_type": "code",
   "execution_count": 10,
   "id": "1371c127-e1ed-4392-a2d5-b19ba382a1a7",
   "metadata": {},
   "outputs": [
    {
     "data": {
      "text/html": [
       "<div>\n",
       "<style scoped>\n",
       "    .dataframe tbody tr th:only-of-type {\n",
       "        vertical-align: middle;\n",
       "    }\n",
       "\n",
       "    .dataframe tbody tr th {\n",
       "        vertical-align: top;\n",
       "    }\n",
       "\n",
       "    .dataframe thead th {\n",
       "        text-align: right;\n",
       "    }\n",
       "</style>\n",
       "<table border=\"1\" class=\"dataframe\">\n",
       "  <thead>\n",
       "    <tr style=\"text-align: right;\">\n",
       "      <th></th>\n",
       "      <th>mean</th>\n",
       "      <th>min</th>\n",
       "      <th>max</th>\n",
       "      <th>zero_coke</th>\n",
       "    </tr>\n",
       "  </thead>\n",
       "  <tbody>\n",
       "    <tr>\n",
       "      <th>count</th>\n",
       "      <td>366.000000</td>\n",
       "      <td>365.000000</td>\n",
       "      <td>366.000000</td>\n",
       "      <td>366.000000</td>\n",
       "    </tr>\n",
       "    <tr>\n",
       "      <th>mean</th>\n",
       "      <td>13.556011</td>\n",
       "      <td>9.522466</td>\n",
       "      <td>18.236612</td>\n",
       "      <td>41.893443</td>\n",
       "    </tr>\n",
       "    <tr>\n",
       "      <th>std</th>\n",
       "      <td>10.749479</td>\n",
       "      <td>11.146055</td>\n",
       "      <td>10.566594</td>\n",
       "      <td>16.789824</td>\n",
       "    </tr>\n",
       "    <tr>\n",
       "      <th>min</th>\n",
       "      <td>-12.100000</td>\n",
       "      <td>-15.500000</td>\n",
       "      <td>-7.300000</td>\n",
       "      <td>6.000000</td>\n",
       "    </tr>\n",
       "    <tr>\n",
       "      <th>25%</th>\n",
       "      <td>5.025000</td>\n",
       "      <td>0.700000</td>\n",
       "      <td>9.300000</td>\n",
       "      <td>30.000000</td>\n",
       "    </tr>\n",
       "    <tr>\n",
       "      <th>50%</th>\n",
       "      <td>14.700000</td>\n",
       "      <td>10.400000</td>\n",
       "      <td>20.150000</td>\n",
       "      <td>44.000000</td>\n",
       "    </tr>\n",
       "    <tr>\n",
       "      <th>75%</th>\n",
       "      <td>22.875000</td>\n",
       "      <td>18.900000</td>\n",
       "      <td>27.275000</td>\n",
       "      <td>54.000000</td>\n",
       "    </tr>\n",
       "    <tr>\n",
       "      <th>max</th>\n",
       "      <td>30.900000</td>\n",
       "      <td>27.400000</td>\n",
       "      <td>36.100000</td>\n",
       "      <td>100.000000</td>\n",
       "    </tr>\n",
       "  </tbody>\n",
       "</table>\n",
       "</div>"
      ],
      "text/plain": [
       "             mean         min         max   zero_coke\n",
       "count  366.000000  365.000000  366.000000  366.000000\n",
       "mean    13.556011    9.522466   18.236612   41.893443\n",
       "std     10.749479   11.146055   10.566594   16.789824\n",
       "min    -12.100000  -15.500000   -7.300000    6.000000\n",
       "25%      5.025000    0.700000    9.300000   30.000000\n",
       "50%     14.700000   10.400000   20.150000   44.000000\n",
       "75%     22.875000   18.900000   27.275000   54.000000\n",
       "max     30.900000   27.400000   36.100000  100.000000"
      ]
     },
     "execution_count": 10,
     "metadata": {},
     "output_type": "execute_result"
    }
   ],
   "source": [
    "df.describe()"
   ]
  },
  {
   "cell_type": "markdown",
   "id": "b3f75c5e-b01b-4c82-8550-31a8025e2e00",
   "metadata": {},
   "source": [
    "* 데이터는 2021년 9월 24일 ~ 2022년 9월 24일 1년간 제로콜라의 판매량을 측정한 데이터이다.\n",
    "* 평균 판매량은 약 41개이며, 6개 ~ 100개 사이의 판매량을 보여준다\n",
    "* 판매량과 기온 사이에 어떤 상관관계가 있을지 간단하게 분석해보자"
   ]
  },
  {
   "cell_type": "code",
   "execution_count": 46,
   "id": "34522f04-857e-4b1c-9675-7cda8e003a13",
   "metadata": {},
   "outputs": [
    {
     "data": {
      "text/plain": [
       "date         0\n",
       "mean         0\n",
       "min          1\n",
       "max          0\n",
       "zero_coke    0\n",
       "dtype: int64"
      ]
     },
     "execution_count": 46,
     "metadata": {},
     "output_type": "execute_result"
    }
   ],
   "source": [
    "df.isnull().sum()"
   ]
  },
  {
   "cell_type": "code",
   "execution_count": 48,
   "id": "b4cde229-2aa7-4e33-a295-279ad76d98bd",
   "metadata": {},
   "outputs": [
    {
     "data": {
      "text/html": [
       "<div>\n",
       "<style scoped>\n",
       "    .dataframe tbody tr th:only-of-type {\n",
       "        vertical-align: middle;\n",
       "    }\n",
       "\n",
       "    .dataframe tbody tr th {\n",
       "        vertical-align: top;\n",
       "    }\n",
       "\n",
       "    .dataframe thead th {\n",
       "        text-align: right;\n",
       "    }\n",
       "</style>\n",
       "<table border=\"1\" class=\"dataframe\">\n",
       "  <thead>\n",
       "    <tr style=\"text-align: right;\">\n",
       "      <th></th>\n",
       "      <th>date</th>\n",
       "      <th>mean</th>\n",
       "      <th>min</th>\n",
       "      <th>max</th>\n",
       "      <th>zero_coke</th>\n",
       "    </tr>\n",
       "  </thead>\n",
       "  <tbody>\n",
       "    <tr>\n",
       "      <th>318</th>\n",
       "      <td>2022-08-08</td>\n",
       "      <td>26.8</td>\n",
       "      <td>NaN</td>\n",
       "      <td>28.4</td>\n",
       "      <td>23</td>\n",
       "    </tr>\n",
       "  </tbody>\n",
       "</table>\n",
       "</div>"
      ],
      "text/plain": [
       "           date  mean  min   max  zero_coke\n",
       "318  2022-08-08  26.8  NaN  28.4         23"
      ]
     },
     "execution_count": 48,
     "metadata": {},
     "output_type": "execute_result"
    }
   ],
   "source": [
    "df[df['min'].isna()]"
   ]
  },
  {
   "cell_type": "code",
   "execution_count": 50,
   "id": "3c36dfd8-dc8f-4683-ac32-ee839dca25a7",
   "metadata": {},
   "outputs": [
    {
     "data": {
      "text/html": [
       "<div>\n",
       "<style scoped>\n",
       "    .dataframe tbody tr th:only-of-type {\n",
       "        vertical-align: middle;\n",
       "    }\n",
       "\n",
       "    .dataframe tbody tr th {\n",
       "        vertical-align: top;\n",
       "    }\n",
       "\n",
       "    .dataframe thead th {\n",
       "        text-align: right;\n",
       "    }\n",
       "</style>\n",
       "<table border=\"1\" class=\"dataframe\">\n",
       "  <thead>\n",
       "    <tr style=\"text-align: right;\">\n",
       "      <th></th>\n",
       "      <th>date</th>\n",
       "      <th>mean</th>\n",
       "      <th>min</th>\n",
       "      <th>max</th>\n",
       "      <th>zero_coke</th>\n",
       "    </tr>\n",
       "  </thead>\n",
       "  <tbody>\n",
       "    <tr>\n",
       "      <th>312</th>\n",
       "      <td>2022-08-02</td>\n",
       "      <td>26.8</td>\n",
       "      <td>25.5</td>\n",
       "      <td>28.5</td>\n",
       "      <td>18</td>\n",
       "    </tr>\n",
       "    <tr>\n",
       "      <th>313</th>\n",
       "      <td>2022-08-03</td>\n",
       "      <td>27.1</td>\n",
       "      <td>25.2</td>\n",
       "      <td>30.0</td>\n",
       "      <td>19</td>\n",
       "    </tr>\n",
       "    <tr>\n",
       "      <th>314</th>\n",
       "      <td>2022-08-04</td>\n",
       "      <td>28.9</td>\n",
       "      <td>26.0</td>\n",
       "      <td>32.9</td>\n",
       "      <td>18</td>\n",
       "    </tr>\n",
       "    <tr>\n",
       "      <th>315</th>\n",
       "      <td>2022-08-05</td>\n",
       "      <td>29.4</td>\n",
       "      <td>27.0</td>\n",
       "      <td>32.7</td>\n",
       "      <td>15</td>\n",
       "    </tr>\n",
       "    <tr>\n",
       "      <th>316</th>\n",
       "      <td>2022-08-06</td>\n",
       "      <td>28.7</td>\n",
       "      <td>27.4</td>\n",
       "      <td>30.3</td>\n",
       "      <td>12</td>\n",
       "    </tr>\n",
       "    <tr>\n",
       "      <th>317</th>\n",
       "      <td>2022-08-07</td>\n",
       "      <td>28.9</td>\n",
       "      <td>27.2</td>\n",
       "      <td>31.7</td>\n",
       "      <td>20</td>\n",
       "    </tr>\n",
       "    <tr>\n",
       "      <th>318</th>\n",
       "      <td>2022-08-08</td>\n",
       "      <td>26.8</td>\n",
       "      <td>NaN</td>\n",
       "      <td>28.4</td>\n",
       "      <td>23</td>\n",
       "    </tr>\n",
       "    <tr>\n",
       "      <th>319</th>\n",
       "      <td>2022-08-09</td>\n",
       "      <td>25.1</td>\n",
       "      <td>22.0</td>\n",
       "      <td>26.5</td>\n",
       "      <td>20</td>\n",
       "    </tr>\n",
       "  </tbody>\n",
       "</table>\n",
       "</div>"
      ],
      "text/plain": [
       "           date  mean   min   max  zero_coke\n",
       "312  2022-08-02  26.8  25.5  28.5         18\n",
       "313  2022-08-03  27.1  25.2  30.0         19\n",
       "314  2022-08-04  28.9  26.0  32.9         18\n",
       "315  2022-08-05  29.4  27.0  32.7         15\n",
       "316  2022-08-06  28.7  27.4  30.3         12\n",
       "317  2022-08-07  28.9  27.2  31.7         20\n",
       "318  2022-08-08  26.8   NaN  28.4         23\n",
       "319  2022-08-09  25.1  22.0  26.5         20"
      ]
     },
     "execution_count": 50,
     "metadata": {},
     "output_type": "execute_result"
    }
   ],
   "source": [
    "df[(df['date'] > \"2022-08-01\") & (df['date'] < \"2022-08-10\")]"
   ]
  },
  {
   "cell_type": "code",
   "execution_count": 52,
   "id": "cf7b05b2-9369-4364-9768-68244ffc819f",
   "metadata": {},
   "outputs": [
    {
     "data": {
      "text/plain": [
       "date         0\n",
       "mean         0\n",
       "min          0\n",
       "max          0\n",
       "zero_coke    0\n",
       "dtype: int64"
      ]
     },
     "execution_count": 52,
     "metadata": {},
     "output_type": "execute_result"
    }
   ],
   "source": [
    "df.dropna(axis=0, inplace=True)\n",
    "df.isnull().sum()"
   ]
  },
  {
   "cell_type": "markdown",
   "id": "a8d6ebd6-02ab-4004-bdd2-26394e8949ed",
   "metadata": {},
   "source": [
    "* 최저 기온에 결측치 존재\n",
    "* 날짜마다 기온이 다 다르고, 결측치가 1개만 존재하기에 삭제 후 진행"
   ]
  },
  {
   "cell_type": "code",
   "execution_count": 55,
   "id": "b9caf5f7-86df-4e0d-ae43-3a90c6f71074",
   "metadata": {},
   "outputs": [
    {
     "data": {
      "image/png": "[encoded data removed]",
      "text/plain": [
       "<Figure size 2000x1000 with 8 Axes>"
      ]
     },
     "metadata": {},
     "output_type": "display_data"
    }
   ],
   "source": [
    "import matplotlib.pyplot as plt\n",
    "\n",
    "df.hist(figsize=(20, 10), grid=False, layout=(2, 4), bins = 30)\n",
    "plt.show()"
   ]
  },
  {
   "cell_type": "markdown",
   "id": "8b5dab05-fede-45f9-a64f-a69be684fc95",
   "metadata": {},
   "source": [
    "* 제로콜라와 기온의 상관관계는 대체적으로 왼쪽으로 치우친 분포를 보여주고 있다"
   ]
  },
  {
   "cell_type": "code",
   "execution_count": 64,
   "id": "f7f2af8a-1280-40bd-9c5c-4df433161196",
   "metadata": {},
   "outputs": [
    {
     "data": {
      "image/png": "[encoded data removed]",
      "text/plain": [
       "<Figure size 2000x700 with 2 Axes>"
      ]
     },
     "metadata": {},
     "output_type": "display_data"
    }
   ],
   "source": [
    "num_features = df.select_dtypes(include=[np.number]).columns\n",
    "plt.figure(figsize=(20, 7))\n",
    "sns.heatmap(df[num_features].corr(), annot = True, vmin=-1, vmax=1)\n",
    "plt.title(\"Correlation in features\")\n",
    "plt.show()"
   ]
  },
  {
   "cell_type": "markdown",
   "id": "847e1548-7aa5-4f6d-83b9-05f8f0ae29dc",
   "metadata": {},
   "source": [
    "* heatmap으로 확인시, 제로콜라와 기온 변수들 간 관계는 다소 높은 음의 상관관계를 가진다는 것을 파악할 수 있다.\n",
    "* 기온이 낮은 겨울철에는 제로콜라의 판매량이 더 많아지고 여름철에는 판매량이 적어진다는 의미로도 해석이 가능하다."
   ]
  }
 ],
 "metadata": {
  "kernelspec": {
   "display_name": "Python 3 (ipykernel)",
   "language": "python",
   "name": "python3"
  },
  "language_info": {
   "codemirror_mode": {
    "name": "ipython",
    "version": 3
   },
   "file_extension": ".py",
   "mimetype": "text/x-python",
   "name": "python",
   "nbconvert_exporter": "python",
   "pygments_lexer": "ipython3",
   "version": "3.12.4"
  }
 },
 "nbformat": 4,
 "nbformat_minor": 5
}
